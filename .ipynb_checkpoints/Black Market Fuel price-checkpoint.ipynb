{
 "cells": [
  {
   "cell_type": "code",
   "execution_count": 2,
   "id": "35b31775",
   "metadata": {},
   "outputs": [],
   "source": [
    "from newsapi import NewsApiClient\n",
    "import cred"
   ]
  },
  {
   "cell_type": "code",
   "execution_count": 3,
   "id": "c84351f1",
   "metadata": {},
   "outputs": [],
   "source": [
    "# Init\n",
    "newsapi = NewsApiClient(cred)"
   ]
  },
  {
   "cell_type": "code",
   "execution_count": null,
   "id": "2e558607",
   "metadata": {},
   "outputs": [],
   "source": [
    "# /v2/top-headlines\n",
    "top_headlines = newsapi.get_top_headlines(q='black market fuel prices in Nigeria',\n",
    "                                          language='en',\n",
    "                                          country='us')"
   ]
  },
  {
   "cell_type": "code",
   "execution_count": null,
   "id": "182769e3",
   "metadata": {},
   "outputs": [],
   "source": [
    "# /v2/everything\n",
    "all_articles = newsapi.get_everything(q='black market fuel prices in Nigeria',\n",
    "                                      from_param='2020-01-01',\n",
    "                                      to='2022-09-15',\n",
    "                                      language='en',\n",
    "                                      sort_by='relevancy',\n",
    "                                      page_size=20,\n",
    "                                      page=2)"
   ]
  }
 ],
 "metadata": {
  "kernelspec": {
   "display_name": "Python 3 (ipykernel)",
   "language": "python",
   "name": "python3"
  },
  "language_info": {
   "codemirror_mode": {
    "name": "ipython",
    "version": 3
   },
   "file_extension": ".py",
   "mimetype": "text/x-python",
   "name": "python",
   "nbconvert_exporter": "python",
   "pygments_lexer": "ipython3",
   "version": "3.9.12"
  }
 },
 "nbformat": 4,
 "nbformat_minor": 5
}
