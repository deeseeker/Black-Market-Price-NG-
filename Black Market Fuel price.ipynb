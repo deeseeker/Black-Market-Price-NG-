{
 "cells": [
  {
   "cell_type": "markdown",
   "id": "33c5f31b",
   "metadata": {},
   "source": [
    "# Black market fuel pricing data collection"
   ]
  },
  {
   "cell_type": "markdown",
   "id": "4c594ffd",
   "metadata": {},
   "source": [
    "### Introduction "
   ]
  },
  {
   "cell_type": "markdown",
   "id": "9ce831da",
   "metadata": {},
   "source": [
    "The aim fo this Project is to collect data on black market fuel prices in Nigeria from the News API, Google search API and Twitter API using the query 'black market fuel price in Nigeria' and its equivalent."
   ]
  },
  {
   "cell_type": "markdown",
   "id": "798db921",
   "metadata": {},
   "source": [
    "### Import Libraries"
   ]
  },
  {
   "cell_type": "code",
   "execution_count": 1,
   "id": "35b31775",
   "metadata": {},
   "outputs": [],
   "source": [
    "from newsapi import NewsApiClient \n",
    "from googleapiclient.discovery import build \n",
    "import pprint\n",
    "import cred #module that contains the api key secrets"
   ]
  },
  {
   "cell_type": "markdown",
   "id": "31d4f2bb",
   "metadata": {},
   "source": [
    "### News api"
   ]
  },
  {
   "cell_type": "code",
   "execution_count": 2,
   "id": "711f025d",
   "metadata": {},
   "outputs": [],
   "source": [
    "# Initialize\n",
    "newsapi = NewsApiClient(api_key=cred.api_key)"
   ]
  },
  {
   "cell_type": "code",
   "execution_count": 3,
   "id": "182769e3",
   "metadata": {},
   "outputs": [],
   "source": [
    "#query all news articles based on the search query\n",
    "all_articles_1 = newsapi.get_everything(q='black market fuel price in Nigeria',\n",
    "                                      sort_by='relevancy',\n",
    "                                      page_size=20,\n",
    "                                      page=2\n",
    "                                      )"
   ]
  },
  {
   "cell_type": "code",
   "execution_count": 4,
   "id": "114527d4",
   "metadata": {},
   "outputs": [
    {
     "data": {
      "text/plain": [
       "{'status': 'ok', 'totalResults': 7, 'articles': []}"
      ]
     },
     "execution_count": 4,
     "metadata": {},
     "output_type": "execute_result"
    }
   ],
   "source": [
    "all_articles_1"
   ]
  },
  {
   "cell_type": "markdown",
   "id": "c3c7f729",
   "metadata": {},
   "source": [
    "> There's no article based on the search query. we will try to tweak the search phrase to 'black market petrol price in Nigeria' and see the result"
   ]
  },
  {
   "cell_type": "code",
   "execution_count": 5,
   "id": "abe510ab",
   "metadata": {},
   "outputs": [],
   "source": [
    "all_articles_2 = newsapi.get_everything(q='black market petrol price in Nigeria',\n",
    "                                      sort_by='relevancy',\n",
    "                                      page_size=20,\n",
    "                                      page=2\n",
    "                                      )"
   ]
  },
  {
   "cell_type": "code",
   "execution_count": 6,
   "id": "46cb7cc3",
   "metadata": {},
   "outputs": [
    {
     "data": {
      "text/plain": [
       "{'status': 'ok', 'totalResults': 1, 'articles': []}"
      ]
     },
     "execution_count": 6,
     "metadata": {},
     "output_type": "execute_result"
    }
   ],
   "source": [
    "all_articles_2"
   ]
  },
  {
   "cell_type": "markdown",
   "id": "ebc87641",
   "metadata": {},
   "source": [
    ">No articles under the search query"
   ]
  },
  {
   "cell_type": "code",
   "execution_count": 7,
   "id": "717a8e37",
   "metadata": {},
   "outputs": [
    {
     "data": {
      "text/plain": [
       "{'status': 'ok', 'totalResults': 2, 'articles': []}"
      ]
     },
     "execution_count": 7,
     "metadata": {},
     "output_type": "execute_result"
    }
   ],
   "source": [
    "newsapi.get_everything(q='unofficial fuel price in Nigeria',\n",
    "                                      sort_by='relevancy',\n",
    "                                      page_size=20,\n",
    "                                      page=2\n",
    "                                      )"
   ]
  },
  {
   "cell_type": "markdown",
   "id": "9a63020a",
   "metadata": {},
   "source": [
    " > No articles on the 'unofficial fuel price in Nigeria' query. We will now try other API to see if we will get anything interesting"
   ]
  },
  {
   "cell_type": "markdown",
   "id": "08cea555",
   "metadata": {},
   "source": [
    "### Google Search API"
   ]
  },
  {
   "cell_type": "code",
   "execution_count": 10,
   "id": "982f07b7",
   "metadata": {},
   "outputs": [],
   "source": [
    "def main(query):\n",
    "    service = build(\n",
    "        \"customsearch\", \"v1\", developerKey=cred.g_key\n",
    "    )\n",
    "\n",
    "    res = (\n",
    "        service.cse()\n",
    "        .list(\n",
    "            q=query,\n",
    "            cx=\"017576662512468239146:omuauf_lfve\",\n",
    "        )\n",
    "        .execute()\n",
    "    )\n",
    "    pprint.pprint(res)\n"
   ]
  },
  {
   "cell_type": "code",
   "execution_count": 11,
   "id": "79661141",
   "metadata": {},
   "outputs": [
    {
     "name": "stdout",
     "output_type": "stream",
     "text": [
      "{'kind': 'customsearch#search',\n",
      " 'queries': {'request': [{'count': 10,\n",
      "                          'cx': '017576662512468239146:omuauf_lfve',\n",
      "                          'inputEncoding': 'utf8',\n",
      "                          'outputEncoding': 'utf8',\n",
      "                          'safe': 'off',\n",
      "                          'searchTerms': 'black market fuel price in Nigeria',\n",
      "                          'startIndex': 1,\n",
      "                          'title': 'Google Custom Search - black market fuel '\n",
      "                                   'price in Nigeria'}]},\n",
      " 'searchInformation': {'formattedSearchTime': '0.44',\n",
      "                       'formattedTotalResults': '0',\n",
      "                       'searchTime': 0.438525,\n",
      "                       'totalResults': '0'},\n",
      " 'url': {'template': 'https://www.googleapis.com/customsearch/v1?q={searchTerms}&num={count?}&start={startIndex?}&lr={language?}&safe={safe?}&cx={cx?}&sort={sort?}&filter={filter?}&gl={gl?}&cr={cr?}&googlehost={googleHost?}&c2coff={disableCnTwTranslation?}&hq={hq?}&hl={hl?}&siteSearch={siteSearch?}&siteSearchFilter={siteSearchFilter?}&exactTerms={exactTerms?}&excludeTerms={excludeTerms?}&linkSite={linkSite?}&orTerms={orTerms?}&relatedSite={relatedSite?}&dateRestrict={dateRestrict?}&lowRange={lowRange?}&highRange={highRange?}&searchType={searchType}&fileType={fileType?}&rights={rights?}&imgSize={imgSize?}&imgType={imgType?}&imgColorType={imgColorType?}&imgDominantColor={imgDominantColor?}&alt=json',\n",
      "         'type': 'application/json'}}\n"
     ]
    }
   ],
   "source": [
    "if __name__ == \"__main__\":\n",
    "    main(\"black market fuel price in Nigeria\")"
   ]
  },
  {
   "cell_type": "code",
   "execution_count": 12,
   "id": "22573c67",
   "metadata": {},
   "outputs": [
    {
     "name": "stdout",
     "output_type": "stream",
     "text": [
      "{'kind': 'customsearch#search',\n",
      " 'queries': {'request': [{'count': 10,\n",
      "                          'cx': '017576662512468239146:omuauf_lfve',\n",
      "                          'inputEncoding': 'utf8',\n",
      "                          'outputEncoding': 'utf8',\n",
      "                          'safe': 'off',\n",
      "                          'searchTerms': 'black market petrol price in Nigeria',\n",
      "                          'startIndex': 1,\n",
      "                          'title': 'Google Custom Search - black market petrol '\n",
      "                                   'price in Nigeria'}]},\n",
      " 'searchInformation': {'formattedSearchTime': '0.40',\n",
      "                       'formattedTotalResults': '0',\n",
      "                       'searchTime': 0.396756,\n",
      "                       'totalResults': '0'},\n",
      " 'url': {'template': 'https://www.googleapis.com/customsearch/v1?q={searchTerms}&num={count?}&start={startIndex?}&lr={language?}&safe={safe?}&cx={cx?}&sort={sort?}&filter={filter?}&gl={gl?}&cr={cr?}&googlehost={googleHost?}&c2coff={disableCnTwTranslation?}&hq={hq?}&hl={hl?}&siteSearch={siteSearch?}&siteSearchFilter={siteSearchFilter?}&exactTerms={exactTerms?}&excludeTerms={excludeTerms?}&linkSite={linkSite?}&orTerms={orTerms?}&relatedSite={relatedSite?}&dateRestrict={dateRestrict?}&lowRange={lowRange?}&highRange={highRange?}&searchType={searchType}&fileType={fileType?}&rights={rights?}&imgSize={imgSize?}&imgType={imgType?}&imgColorType={imgColorType?}&imgDominantColor={imgDominantColor?}&alt=json',\n",
      "         'type': 'application/json'}}\n"
     ]
    }
   ],
   "source": [
    "if __name__ == \"__main__\":\n",
    "    main('black market petrol price in Nigeria')"
   ]
  },
  {
   "cell_type": "code",
   "execution_count": 13,
   "id": "c7d68a18",
   "metadata": {},
   "outputs": [
    {
     "name": "stdout",
     "output_type": "stream",
     "text": [
      "{'kind': 'customsearch#search',\n",
      " 'queries': {'request': [{'count': 10,\n",
      "                          'cx': '017576662512468239146:omuauf_lfve',\n",
      "                          'inputEncoding': 'utf8',\n",
      "                          'outputEncoding': 'utf8',\n",
      "                          'safe': 'off',\n",
      "                          'searchTerms': 'unofficial fuel price in Nigeria',\n",
      "                          'startIndex': 1,\n",
      "                          'title': 'Google Custom Search - unofficial fuel '\n",
      "                                   'price in Nigeria'}]},\n",
      " 'searchInformation': {'formattedSearchTime': '0.35',\n",
      "                       'formattedTotalResults': '0',\n",
      "                       'searchTime': 0.345793,\n",
      "                       'totalResults': '0'},\n",
      " 'url': {'template': 'https://www.googleapis.com/customsearch/v1?q={searchTerms}&num={count?}&start={startIndex?}&lr={language?}&safe={safe?}&cx={cx?}&sort={sort?}&filter={filter?}&gl={gl?}&cr={cr?}&googlehost={googleHost?}&c2coff={disableCnTwTranslation?}&hq={hq?}&hl={hl?}&siteSearch={siteSearch?}&siteSearchFilter={siteSearchFilter?}&exactTerms={exactTerms?}&excludeTerms={excludeTerms?}&linkSite={linkSite?}&orTerms={orTerms?}&relatedSite={relatedSite?}&dateRestrict={dateRestrict?}&lowRange={lowRange?}&highRange={highRange?}&searchType={searchType}&fileType={fileType?}&rights={rights?}&imgSize={imgSize?}&imgType={imgType?}&imgColorType={imgColorType?}&imgDominantColor={imgDominantColor?}&alt=json',\n",
      "         'type': 'application/json'}}\n"
     ]
    }
   ],
   "source": [
    "\n",
    "if __name__ == \"__main__\":\n",
    "    main('unofficial fuel price in Nigeria')"
   ]
  },
  {
   "cell_type": "markdown",
   "id": "021dac1b",
   "metadata": {},
   "source": [
    ">No results was found using the Google Search API"
   ]
  },
  {
   "cell_type": "markdown",
   "id": "05766a1d",
   "metadata": {},
   "source": [
    "#Twitter API"
   ]
  }
 ],
 "metadata": {
  "kernelspec": {
   "display_name": "Python 3 (ipykernel)",
   "language": "python",
   "name": "python3"
  },
  "language_info": {
   "codemirror_mode": {
    "name": "ipython",
    "version": 3
   },
   "file_extension": ".py",
   "mimetype": "text/x-python",
   "name": "python",
   "nbconvert_exporter": "python",
   "pygments_lexer": "ipython3",
   "version": "3.9.12"
  }
 },
 "nbformat": 4,
 "nbformat_minor": 5
}
